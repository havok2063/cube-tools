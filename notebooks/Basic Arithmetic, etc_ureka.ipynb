{
 "metadata": {
  "kernelspec": {
   "display_name": "Python 2",
   "language": "python",
   "name": "python2"
  },
  "language_info": {
   "codemirror_mode": {
    "name": "ipython",
    "version": 2
   },
   "file_extension": ".py",
   "mimetype": "text/x-python",
   "name": "python",
   "nbconvert_exporter": "python",
   "pygments_lexer": "ipython2",
   "version": "2.7.9"
  },
  "name": ""
 },
 "nbformat": 3,
 "nbformat_minor": 0,
 "worksheets": [
  {
   "cells": [
    {
     "cell_type": "heading",
     "level": 1,
     "metadata": {},
     "source": [
      "Interacting with cube data"
     ]
    },
    {
     "cell_type": "markdown",
     "metadata": {},
     "source": [
      "## File I/O\n",
      "The core `CubeData` object now directly recognizes FITS files using to AstroPy's IO registry."
     ]
    },
    {
     "cell_type": "code",
     "collapsed": false,
     "input": [
      "# Import CubeData object along with some iPython widgetry\n",
      "import sys\n",
      "from cube_tools.core import CubeData\n",
      "\n",
      "from IPython.html import widgets # Widget definitions\n",
      "from IPython.display import display # Used to display widgets in the notebook\n",
      "\n",
      "%pylab inline\n",
      "pylab.rcParams['figure.figsize'] = (12.0, 8.0)"
     ],
     "language": "python",
     "metadata": {},
     "outputs": [
      {
       "output_type": "stream",
       "stream": "stdout",
       "text": [
        "Populating the interactive namespace from numpy and matplotlib\n"
       ]
      },
      {
       "output_type": "stream",
       "stream": "stderr",
       "text": [
        ":0: FutureWarning: IPython widgets are experimental and may change in the future.\n"
       ]
      }
     ],
     "prompt_number": 1
    },
    {
     "cell_type": "code",
     "collapsed": false,
     "input": [
      "%%capture\n",
      "# Create our CubeData object\n",
      "my_data = CubeData.read(\"/Users/nearl/Downloads/Cube_IFU_cube_MON-COMBO-IFU-05_8409_jlab85.fits\")"
     ],
     "language": "python",
     "metadata": {},
     "outputs": [],
     "prompt_number": 3
    },
    {
     "cell_type": "code",
     "collapsed": false,
     "input": [
      "vmin_data, vmax_data = np.min(my_data.data), np.max(my_data.data)\n",
      "vmin_uncert, vmax_uncert = np.min(my_data.uncertainty.array), np.max(my_data.uncertainty.array)\n",
      "# Define callable for iPython widgets\n",
      "def cube_slice_plotter(wl):\n",
      "    f, (ax1, ax2) = plt.subplots(1, 2)\n",
      "    ax1.imshow(my_data[wl, :, :].data, interpolation='none')#, vmin=vmin_data, vmax=vmax_data)\n",
      "    ax1.set_title(\"Data\")\n",
      "    ax2.imshow(my_data[wl, :, :].uncertainty.array, interpolation='none')#, vmin=vmin_uncert, vmax=vmax_uncert)\n",
      "    ax2.set_title(\"Uncertainty\")\n",
      "    plt.show()"
     ],
     "language": "python",
     "metadata": {},
     "outputs": [],
     "prompt_number": 4
    },
    {
     "cell_type": "code",
     "collapsed": false,
     "input": [
      "# Show CubeData; allow for sliding through the data cube along wavelength axis\n",
      "widgets.interact(cube_slice_plotter, wl=(0, my_data.data.shape[0]-1))"
     ],
     "language": "python",
     "metadata": {},
     "outputs": [
      {
       "metadata": {},
       "output_type": "display_data",
       "png": "[encoded data removed]",
       "text": [
        "<matplotlib.figure.Figure at 0x10a9a4690>"
       ]
      }
     ],
     "prompt_number": 5
    },
    {
     "cell_type": "markdown",
     "metadata": {
      "collapsed": true
     },
     "source": [
      "## Arithmetic\n",
      "Arithmetic operations have also been implemented for working with CubeData objects. Let's see what the corner of our cube looks like right now."
     ]
    },
    {
     "cell_type": "code",
     "collapsed": false,
     "input": [
      "my_data[0, 0, 0]"
     ],
     "language": "python",
     "metadata": {},
     "outputs": [
      {
       "latex": [
        "$-1.1266306 \\times 10^{10} \\; \\mathrm{\\frac{erg}{\\mathring{A}\\,s\\,vox\\,cm^{2}}}$"
       ],
       "metadata": {},
       "output_type": "pyout",
       "prompt_number": 6,
       "text": [
        "<Quantity -11266306048.0 erg / (Angstrom cm2 s vox)>"
       ]
      }
     ],
     "prompt_number": 6
    },
    {
     "cell_type": "heading",
     "level": 3,
     "metadata": {},
     "source": [
      "Operations with basic types"
     ]
    },
    {
     "cell_type": "code",
     "collapsed": false,
     "input": [
      "# Addition\n",
      "my_data += 2e10\n",
      "my_data[0, 0, 0]"
     ],
     "language": "python",
     "metadata": {},
     "outputs": [
      {
       "latex": [
        "$8.733694 \\times 10^{9} \\; \\mathrm{\\frac{erg}{\\mathring{A}\\,s\\,vox\\,cm^{2}}}$"
       ],
       "metadata": {},
       "output_type": "pyout",
       "prompt_number": 7,
       "text": [
        "<Quantity 8733693952.0 erg / (Angstrom cm2 s vox)>"
       ]
      }
     ],
     "prompt_number": 7
    },
    {
     "cell_type": "code",
     "collapsed": false,
     "input": [
      "# Multiplication\n",
      "my_data *= 2\n",
      "my_data[0, 0, 0]"
     ],
     "language": "python",
     "metadata": {},
     "outputs": [
      {
       "latex": [
        "$1.7467388 \\times 10^{10} \\; \\mathrm{\\frac{erg^{2}}{\\mathring{A}^{2}\\,s^{2}\\,vox^{2}\\,cm^{4}}}$"
       ],
       "metadata": {},
       "output_type": "pyout",
       "prompt_number": 8,
       "text": [
        "<Quantity 17467387904.0 erg2 / (Angstrom2 cm4 s2 vox2)>"
       ]
      }
     ],
     "prompt_number": 8
    },
    {
     "cell_type": "heading",
     "level": 3,
     "metadata": {},
     "source": [
      "Operations with other CubeData objects"
     ]
    },
    {
     "cell_type": "code",
     "collapsed": false,
     "input": [
      "my_data = CubeData.read(\"/Users/nearl/Downloads/Cube_IFU_cube_MON-COMBO-IFU-05_8409_jlab85.fits\")\n",
      "my_other_data = CubeData.read(\"/Users/nearl/Downloads/Cube_IFU_cube_MON-COMBO-IFU-05_8409_jlab85.fits\")"
     ],
     "language": "python",
     "metadata": {},
     "outputs": [],
     "prompt_number": 9
    },
    {
     "cell_type": "code",
     "collapsed": false,
     "input": [
      "# Addition\n",
      "new_data = my_data + my_other_data\n",
      "\n",
      "print(\"\"\"\n",
      "Original value at [0, 0, 0] for my_data:       {}\n",
      "Original value at [0, 0, 0] for my_other_Data: {}\n",
      "New value at [0, 0, 0] for new_data:           {}\n",
      "\"\"\".format(my_data[0, 0 ,0], my_other_data[0, 0, 0], new_data[0, 0, 0]))"
     ],
     "language": "python",
     "metadata": {},
     "outputs": [
      {
       "output_type": "stream",
       "stream": "stderr",
       "text": [
        "INFO:astropy:The uncertainty classes used do not support the propagation of correlated errors, so uncertainties will be propagated assuming they are uncorrelated\n"
       ]
      },
      {
       "output_type": "stream",
       "stream": "stdout",
       "text": [
        "INFO: The uncertainty classes used do not support the propagation of correlated errors, so uncertainties will be propagated assuming they are uncorrelated [astropy.nddata.mixins.ndarithmetic]\n",
        "\n",
        "Original value at [0, 0, 0] for my_data:       -11266306048.0 erg / (Angstrom cm2 s vox)\n",
        "Original value at [0, 0, 0] for my_other_Data: -11266306048.0 erg / (Angstrom cm2 s vox)\n",
        "New value at [0, 0, 0] for new_data:           -22532612096.0 erg / (Angstrom cm2 s vox)\n",
        "\n"
       ]
      },
      {
       "output_type": "stream",
       "stream": "stderr",
       "text": [
        "/Users/nearl/anaconda/lib/python2.7/site-packages/astropy-1.1.dev12527-py2.7-macosx-10.5-x86_64.egg/astropy/nddata/nduncertainty.py:248: RuntimeWarning: overflow encountered in square\n",
        "  result_uncertainty.array = np.sqrt(self.array**2 +\n",
        "/Users/nearl/anaconda/lib/python2.7/site-packages/astropy-1.1.dev12527-py2.7-macosx-10.5-x86_64.egg/astropy/nddata/nduncertainty.py:249: RuntimeWarning: overflow encountered in square\n",
        "  other_nddata.uncertainty.array**2)\n"
       ]
      }
     ],
     "prompt_number": 10
    },
    {
     "cell_type": "heading",
     "level": 3,
     "metadata": {},
     "source": [
      "Collapsing cube"
     ]
    },
    {
     "cell_type": "code",
     "collapsed": false,
     "input": [
      "f, (ax1, ax2, ax4) = plt.subplots(1, 3)\n",
      "\n",
      "# mean\n",
      "ax1.imshow(my_data.collapse(method=\"mean\").data, interpolation='none')\n",
      "ax1.set_title(\"Mean\")\n",
      "\n",
      "# Median\n",
      "ax2.imshow(my_data.collapse(method=\"median\").data, interpolation='none')\n",
      "ax2.set_title(\"Median\")\n",
      "\n",
      "# Half way slice\n",
      "ax4.imshow(my_data[my_data.data.shape[0] * 0.5, :, :].data, interpolation='none')\n",
      "ax4.set_title(\"Half way slice\")"
     ],
     "language": "python",
     "metadata": {},
     "outputs": [
      {
       "metadata": {},
       "output_type": "pyout",
       "prompt_number": 11,
       "text": [
        "<matplotlib.text.Text at 0x10a2de590>"
       ]
      },
      {
       "metadata": {},
       "output_type": "display_data",
       "png": "[encoded data removed]",
       "text": [
        "<matplotlib.figure.Figure at 0x10a074050>"
       ]
      }
     ],
     "prompt_number": 11
    },
    {
     "cell_type": "code",
     "collapsed": true,
     "input": [],
     "language": "python",
     "metadata": {},
     "outputs": [],
     "prompt_number": null
    }
   ],
   "metadata": {}
  }
 ]
}